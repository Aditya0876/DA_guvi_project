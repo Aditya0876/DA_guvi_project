{
 "cells": [
  {
   "cell_type": "code",
   "execution_count": null,
   "id": "9ae853b9",
   "metadata": {},
   "outputs": [],
   "source": [
    "# Simple test file: test_setup.py\n",
    "import pandas as pd\n",
    "import numpy as np\n",
    "import matplotlib.pyplot as plt\n",
    "import seaborn as sns\n",
    "from sklearn.model_selection import train_test_split\n",
    "from sklearn.ensemble import RandomForestClassifier\n",
    "from sklearn.metrics import accuracy_score\n",
    "\n",
    "print(\"All libraries imported successfully!\")\n",
    "print(\"Setup is working correctly!\")\n",
    "\n",
    "# Create simple test data\n",
    "data = {\n",
    "    'feature1': [1, 2, 3, 4, 5],\n",
    "    'feature2': [2, 4, 6, 8, 10],\n",
    "    'target': [0, 0, 1, 1, 1]\n",
    "}\n",
    "\n",
    "df = pd.DataFrame(data)\n",
    "print(\"\\nTest DataFrame created:\")\n",
    "print(df)\n",
    "\n",
    "# Simple plot test\n",
    "plt.figure(figsize=(6, 4))\n",
    "plt.scatter(df['feature1'], df['feature2'], c=df['target'])\n",
    "plt.title('Test Plot')\n",
    "plt.show()"
   ]
  },
  {
   "cell_type": "code",
   "execution_count": null,
   "id": "2f10cd36",
   "metadata": {},
   "outputs": [
    {
     "data": {
      "text/plain": [
       "Traceback (most recent call last):\n",
       "  File \"c:\\Users\\kalia\\.vscode\\extensions\\ms-python.python-2025.6.1-win32-x64\\python_files\\python_server.py\", line 133, in exec_user_input\n",
       "    retval = callable_(user_input, user_globals)\n",
       "  File \"<string>\", line 2, in <module>\n",
       "ModuleNotFoundError: No module named 'pandas'\n",
       "\n"
      ]
     },
     "metadata": {},
     "output_type": "display_data"
    }
   ],
   "source": [
    "# Simple test file: test_setup.py\n",
    "import pandas as pd\n",
    "import numpy as np\n",
    "import matplotlib.pyplot as plt\n",
    "import seaborn as sns\n",
    "from sklearn.model_selection import train_test_split\n",
    "from sklearn.ensemble import RandomForestClassifier\n",
    "from sklearn.metrics import accuracy_score\n",
    "\n",
    "print(\"All libraries imported successfully!\")\n",
    "print(\"Setup is working correctly!\")\n",
    "\n",
    "# Create simple test data\n",
    "data = {\n",
    "    'feature1': [1, 2, 3, 4, 5],\n",
    "    'feature2': [2, 4, 6, 8, 10],\n",
    "    'target': [0, 0, 1, 1, 1]\n",
    "}\n",
    "\n",
    "df = pd.DataFrame(data)\n",
    "print(\"\\nTest DataFrame created:\")\n",
    "print(df)\n",
    "\n",
    "# Simple plot test\n",
    "plt.figure(figsize=(6, 4))\n",
    "plt.scatter(df['feature1'], df['feature2'], c=df['target'])\n",
    "plt.title('Test Plot')\n",
    "plt.show()\n"
   ]
  },
  {
   "cell_type": "code",
   "execution_count": null,
   "id": "e22cf6d4",
   "metadata": {},
   "outputs": [],
   "source": []
  }
 ],
 "metadata": {
  "language_info": {
   "name": "python"
  }
 },
 "nbformat": 4,
 "nbformat_minor": 5
}
